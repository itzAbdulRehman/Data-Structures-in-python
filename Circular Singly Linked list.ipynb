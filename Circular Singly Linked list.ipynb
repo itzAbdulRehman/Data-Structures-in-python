{
 "cells": [
  {
   "cell_type": "markdown",
   "id": "17e69943",
   "metadata": {},
   "source": [
    "# Circular Singly Linked list"
   ]
  },
  {
   "cell_type": "code",
   "execution_count": 943,
   "id": "52c3c2a0",
   "metadata": {},
   "outputs": [],
   "source": [
    "class Node:\n",
    "    \n",
    "    def __init__(self,data):\n",
    "        self.data = data\n",
    "        self.ref = None\n",
    "        \n",
    "class SCLL:\n",
    "    \n",
    "    def __init__(self):\n",
    "        self.head = None\n",
    "        \n",
    "        \n",
    "    def print_list(self):\n",
    "        if self.head is None:\n",
    "            print(\"empty\")\n",
    "            \n",
    "        else: \n",
    "            node = self.head\n",
    "            while node.ref!=self.head:\n",
    "                print(node.data,\"-->\",end=\" \")\n",
    "                node = node.ref\n",
    "            print(node.data)\n",
    "    \n",
    "    def get_length(self):\n",
    "        if self.head is None:\n",
    "            print(\"empty\")\n",
    "            \n",
    "        else:\n",
    "            counter = 0\n",
    "            node = self.head\n",
    "            while node.ref!=self.head:\n",
    "                node = node.ref\n",
    "                counter+=1\n",
    "            return counter+1\n",
    "        \n",
    "    def add_at_beg(self,data):\n",
    "        new_node = Node(data)\n",
    "        if self.head is None:\n",
    "            self.head = new_node\n",
    "            new_node.ref = self.head\n",
    "        \n",
    "        else:\n",
    "            node = self.head\n",
    "            while node.ref!=self.head:\n",
    "                node = node.ref\n",
    "            node.ref = new_node\n",
    "            new_node.ref = self.head\n",
    "            self.head = new_node\n",
    "            \n",
    "    def add_at_end(self,data):\n",
    "        new_node = Node(data)\n",
    "        if self.head is None:\n",
    "            self.head = new_node\n",
    "            new_node.ref = self.head\n",
    "        \n",
    "        else:\n",
    "            node = self.head\n",
    "            while node.ref!=self.head:\n",
    "                node = node.ref\n",
    "            node.ref = new_node\n",
    "            new_node.ref = self.head\n",
    "            \n",
    "    def add_at_index(self,index,data):\n",
    "        new_node = Node(data)\n",
    "        if index<0 or index>self.get_length():\n",
    "            raise Exception(\"Index Out Of Range\")\n",
    "            \n",
    "        elif index==0:\n",
    "            self.add_at_beggining()\n",
    "            \n",
    "        elif index==self.get_length()-1:\n",
    "            self.add_at_end\n",
    "            \n",
    "        else:\n",
    "            node = self.head\n",
    "            counter = 0\n",
    "            while counter<index-1:\n",
    "                node = node.ref\n",
    "                counter+=1\n",
    "            new_node.ref = node.ref\n",
    "            node.ref = new_node\n",
    "            \n",
    "            \n",
    "            \n",
    "    def remove_at_beg(self):\n",
    "        if self.head is None:\n",
    "            print(\"empty\")\n",
    "            \n",
    "        elif self.head.ref is self.head:\n",
    "            self.head = None\n",
    "            \n",
    "        else:\n",
    "            node = self.head\n",
    "            while node.ref!=self.head:\n",
    "                node = node.ref\n",
    "            node.ref = self.head.ref\n",
    "            self.head = self.head.ref\n",
    "            \n",
    "    def remove_at_end(self):\n",
    "        if self.head is None:\n",
    "            print(\"empty\")\n",
    "            \n",
    "        elif self.head.ref is self.head:\n",
    "            self.head = None\n",
    "            \n",
    "        else:\n",
    "            node = self.head\n",
    "            while node.ref.ref!=self.head:\n",
    "                node = node.ref\n",
    "            node.ref = self.head\n",
    "            \n",
    "    def remove_from_index(self,index):\n",
    "        if index<0 or index>self.get_length():\n",
    "            raise Exception(\"Index Out Of Range\")\n",
    "            \n",
    "        elif index==0:\n",
    "            self.remove_from_begining()\n",
    "            \n",
    "        elif index==self.get_length()-1:\n",
    "            self.remove_from_ending()\n",
    "            \n",
    "        else:\n",
    "            node = self.head\n",
    "            counter = 0\n",
    "            while counter<index-1:\n",
    "                node = node.ref\n",
    "                counter+=1\n",
    "            node.ref = node.ref.ref\n",
    "            \n",
    "    def print_from_index(self,index):\n",
    "        if index<0 or index>self.get_length()-1:\n",
    "            raise Exception(\"Index Out Of Range\")\n",
    "        else:\n",
    "            counter = 0\n",
    "            node = self.head\n",
    "            while counter!=index:\n",
    "                node = node.ref\n",
    "                counter+=1\n",
    "            index_node = node\n",
    "            while index_node.ref!=node:\n",
    "                print(index_node.data,\"-->\",end=\" \")\n",
    "                index_node = index_node.ref\n",
    "            print(index_node.data)\n",
    "            \n",
    "        "
   ]
  },
  {
   "cell_type": "code",
   "execution_count": 944,
   "id": "710b3651",
   "metadata": {},
   "outputs": [],
   "source": [
    "ll = SCLL()"
   ]
  },
  {
   "cell_type": "code",
   "execution_count": 945,
   "id": "67b0e144",
   "metadata": {},
   "outputs": [],
   "source": [
    "ll.add_at_beg(10)\n",
    "ll.add_at_beg(20)\n",
    "ll.add_at_beg(30)\n",
    "ll.add_at_beg(40)"
   ]
  },
  {
   "cell_type": "code",
   "execution_count": 946,
   "id": "a592747e",
   "metadata": {},
   "outputs": [
    {
     "name": "stdout",
     "output_type": "stream",
     "text": [
      "40 --> 30 --> 20 --> 10\n"
     ]
    }
   ],
   "source": [
    "ll.print_list()"
   ]
  },
  {
   "cell_type": "code",
   "execution_count": 947,
   "id": "814a2311",
   "metadata": {},
   "outputs": [],
   "source": [
    "ll.add_at_end(1100)\n",
    "ll.add_at_end(1200)\n",
    "ll.add_at_end(1300)"
   ]
  },
  {
   "cell_type": "code",
   "execution_count": 948,
   "id": "7c8307b3",
   "metadata": {},
   "outputs": [
    {
     "name": "stdout",
     "output_type": "stream",
     "text": [
      "40 --> 30 --> 20 --> 10 --> 1100 --> 1200 --> 1300\n"
     ]
    }
   ],
   "source": [
    "ll.print_list()"
   ]
  },
  {
   "cell_type": "code",
   "execution_count": 949,
   "id": "51f688ce",
   "metadata": {},
   "outputs": [],
   "source": [
    "ll.remove_at_beg()"
   ]
  },
  {
   "cell_type": "code",
   "execution_count": 950,
   "id": "d4c59b90",
   "metadata": {},
   "outputs": [
    {
     "name": "stdout",
     "output_type": "stream",
     "text": [
      "30 --> 20 --> 10 --> 1100 --> 1200 --> 1300\n"
     ]
    }
   ],
   "source": [
    "ll.print_list()"
   ]
  },
  {
   "cell_type": "code",
   "execution_count": 951,
   "id": "00cab345",
   "metadata": {},
   "outputs": [],
   "source": [
    "ll.remove_at_end()"
   ]
  },
  {
   "cell_type": "code",
   "execution_count": 952,
   "id": "d6885023",
   "metadata": {},
   "outputs": [
    {
     "name": "stdout",
     "output_type": "stream",
     "text": [
      "30 --> 20 --> 10 --> 1100 --> 1200\n"
     ]
    }
   ],
   "source": [
    "ll.print_list()"
   ]
  },
  {
   "cell_type": "code",
   "execution_count": 953,
   "id": "ed3ca52f",
   "metadata": {},
   "outputs": [
    {
     "data": {
      "text/plain": [
       "5"
      ]
     },
     "execution_count": 953,
     "metadata": {},
     "output_type": "execute_result"
    }
   ],
   "source": [
    "ll.get_length()"
   ]
  },
  {
   "cell_type": "code",
   "execution_count": 954,
   "id": "f272852b",
   "metadata": {},
   "outputs": [
    {
     "name": "stdout",
     "output_type": "stream",
     "text": [
      "30 --> 20 --> 10 --> 1100 --> 1200\n"
     ]
    }
   ],
   "source": [
    "ll.print_from_index(0)"
   ]
  },
  {
   "cell_type": "code",
   "execution_count": 955,
   "id": "4b4c540d",
   "metadata": {},
   "outputs": [
    {
     "name": "stdout",
     "output_type": "stream",
     "text": [
      "30 --> 20 --> 10 --> 1100 --> 1200\n"
     ]
    }
   ],
   "source": [
    "ll.print_list()"
   ]
  },
  {
   "cell_type": "code",
   "execution_count": 956,
   "id": "a739d2df",
   "metadata": {},
   "outputs": [
    {
     "name": "stdout",
     "output_type": "stream",
     "text": [
      "1100 --> 1200 --> 30 --> 20 --> 10\n"
     ]
    }
   ],
   "source": [
    "ll.print_from_index(3)"
   ]
  },
  {
   "cell_type": "code",
   "execution_count": 957,
   "id": "dd6b9870",
   "metadata": {},
   "outputs": [
    {
     "name": "stdout",
     "output_type": "stream",
     "text": [
      "30 --> 20 --> 10 --> 1100 --> 1200\n"
     ]
    }
   ],
   "source": [
    "ll.print_list()"
   ]
  },
  {
   "cell_type": "code",
   "execution_count": 958,
   "id": "ef0e25e7",
   "metadata": {},
   "outputs": [],
   "source": [
    "ll.add_at_end(30)"
   ]
  },
  {
   "cell_type": "code",
   "execution_count": 959,
   "id": "bb347082",
   "metadata": {},
   "outputs": [
    {
     "name": "stdout",
     "output_type": "stream",
     "text": [
      "30 --> 20 --> 10 --> 1100 --> 1200 --> 30\n"
     ]
    }
   ],
   "source": [
    "ll.print_list()"
   ]
  },
  {
   "cell_type": "code",
   "execution_count": 960,
   "id": "df73816d",
   "metadata": {},
   "outputs": [
    {
     "name": "stdout",
     "output_type": "stream",
     "text": [
      "30 --> 20 --> 10 --> 1100 --> 1200 --> 30\n"
     ]
    }
   ],
   "source": [
    "ll.print_from_index(0)"
   ]
  },
  {
   "cell_type": "code",
   "execution_count": 961,
   "id": "c940a3b7",
   "metadata": {},
   "outputs": [
    {
     "name": "stdout",
     "output_type": "stream",
     "text": [
      "10 --> 1100 --> 1200 --> 30 --> 30 --> 20\n"
     ]
    }
   ],
   "source": [
    "ll.print_from_index(2)"
   ]
  },
  {
   "cell_type": "code",
   "execution_count": 962,
   "id": "d81680c1",
   "metadata": {},
   "outputs": [
    {
     "name": "stdout",
     "output_type": "stream",
     "text": [
      "30 --> 20 --> 10 --> 1100 --> 1200 --> 30\n"
     ]
    }
   ],
   "source": [
    "ll.print_list()"
   ]
  },
  {
   "cell_type": "code",
   "execution_count": 963,
   "id": "40114430",
   "metadata": {},
   "outputs": [],
   "source": [
    "ll.add_at_index(3,45)"
   ]
  },
  {
   "cell_type": "code",
   "execution_count": 964,
   "id": "49db4e60",
   "metadata": {},
   "outputs": [
    {
     "name": "stdout",
     "output_type": "stream",
     "text": [
      "30 --> 20 --> 10 --> 45 --> 1100 --> 1200 --> 30\n"
     ]
    }
   ],
   "source": [
    "ll.print_list()"
   ]
  },
  {
   "cell_type": "code",
   "execution_count": 965,
   "id": "bcce4233",
   "metadata": {},
   "outputs": [
    {
     "name": "stdout",
     "output_type": "stream",
     "text": [
      "1200 --> 30 --> 30 --> 20 --> 10 --> 45 --> 1100\n"
     ]
    }
   ],
   "source": [
    "ll.print_from_index(5)"
   ]
  },
  {
   "cell_type": "code",
   "execution_count": 966,
   "id": "866dfbe0",
   "metadata": {},
   "outputs": [],
   "source": [
    "ll.remove_from_index(3)"
   ]
  },
  {
   "cell_type": "code",
   "execution_count": 967,
   "id": "96e22b48",
   "metadata": {},
   "outputs": [
    {
     "name": "stdout",
     "output_type": "stream",
     "text": [
      "30 --> 20 --> 10 --> 1100 --> 1200 --> 30\n"
     ]
    }
   ],
   "source": [
    "ll.print_list()"
   ]
  },
  {
   "cell_type": "code",
   "execution_count": null,
   "id": "1646f7c1",
   "metadata": {},
   "outputs": [],
   "source": []
  }
 ],
 "metadata": {
  "kernelspec": {
   "display_name": "Python 3",
   "language": "python",
   "name": "python3"
  },
  "language_info": {
   "codemirror_mode": {
    "name": "ipython",
    "version": 3
   },
   "file_extension": ".py",
   "mimetype": "text/x-python",
   "name": "python",
   "nbconvert_exporter": "python",
   "pygments_lexer": "ipython3",
   "version": "3.8.8"
  }
 },
 "nbformat": 4,
 "nbformat_minor": 5
}
