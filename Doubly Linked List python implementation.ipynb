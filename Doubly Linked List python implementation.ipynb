{
 "cells": [
  {
   "cell_type": "markdown",
   "id": "49d1471d",
   "metadata": {},
   "source": [
    "# Doubly Linked List"
   ]
  },
  {
   "cell_type": "code",
   "execution_count": 161,
   "id": "0bbfcb44",
   "metadata": {},
   "outputs": [],
   "source": [
    "class Node:\n",
    "    \n",
    "    def __init__(self,data):\n",
    "        self.data = data\n",
    "        self.ref = None\n",
    "        self.pre = None\n",
    "        \n",
    "class Doubly_Linked_List:\n",
    "    \n",
    "    def __init__(self):\n",
    "        self.head = None\n",
    "        \n",
    "    def get_lenght(self):\n",
    "        node = self.head\n",
    "        if node is None:\n",
    "            print(\"Linked list is Empty\")\n",
    "        else:\n",
    "            counter=0\n",
    "            while node is not None:\n",
    "                node = node.ref\n",
    "                counter += 1\n",
    "            return counter\n",
    "        \n",
    "    def print_list(self):\n",
    "        if self.head is None:\n",
    "            print(\"Linked List is Empty\")\n",
    "        else:\n",
    "            node = self.head\n",
    "            while node is not None:\n",
    "                print(node.data,\"-->\",end=\" \")\n",
    "                node = node.ref\n",
    "                \n",
    "    def reverse_list(self):\n",
    "        if self.head is None:\n",
    "            print(\"Linked List is Empty\")\n",
    "        else:\n",
    "            node = self.head\n",
    "            while node.ref is not None:\n",
    "                node = node.ref\n",
    "            while node is not None:\n",
    "                print(node.data,\"-->\",end=\" \")\n",
    "                node = node.pre\n",
    "                \n",
    "    def add_at_beggining(self,data):\n",
    "        new_node = Node(data)\n",
    "        if self.head is None:\n",
    "            self.head = new_node\n",
    "        else:\n",
    "            new_node.ref = self.head\n",
    "            self.head.pre = new_node\n",
    "            self.head = new_node\n",
    "            \n",
    "    def add_at_ending(self,data):\n",
    "        new_node = Node(data)\n",
    "        if self.head is None:\n",
    "            self.head = new_node\n",
    "        else:\n",
    "            node = self.head\n",
    "            while node.ref is not None:\n",
    "                node = node.ref\n",
    "            node.ref = new_node\n",
    "            new_node.pre = node\n",
    "            \n",
    "        \n",
    "    def add_at_index(self,index,data):\n",
    "        \n",
    "        if index<0 or index>self.get_lenght()-1:\n",
    "            raise Exception(\"Index Out OF Range\")\n",
    "        \n",
    "        elif index==0:\n",
    "            self.add_at_beggining(data)\n",
    "            \n",
    "        elif index==self.get_lenght()-1:\n",
    "            self.add_at_ending(data)\n",
    "            \n",
    "        else:\n",
    "            new_node = Node(data)\n",
    "            node = self.head\n",
    "            counter = 0\n",
    "            while counter<index-1:\n",
    "                node = node.ref\n",
    "                counter+=1\n",
    "            new_node.ref = node.ref\n",
    "            new_node.pre = node\n",
    "            node.ref.pre = new_node\n",
    "            node.ref = new_node\n",
    "            \n",
    "    def remove_at_beginning(self):\n",
    "        if self.head is None:\n",
    "            print(\"Linked List is Empty\")\n",
    "            \n",
    "        elif self.head.ref is None:\n",
    "            self.head = None\n",
    "            \n",
    "        else:\n",
    "            self.head = self.head.ref\n",
    "            self.head.pre = None\n",
    "            \n",
    "    def remove_at_ending(self):\n",
    "        if self.head is None:\n",
    "            print(\"Linked List is Empty\")\n",
    "            \n",
    "        elif self.head.ref is None:\n",
    "            self.head = None\n",
    "            \n",
    "        else:\n",
    "            node = self.head\n",
    "            while node.ref.ref is not None:\n",
    "                node = node.ref\n",
    "            node.ref = None\n",
    "            \n",
    "    def remove_at_index(self,index):\n",
    "        \n",
    "        if index<0 or index>self.get_lenght()-1:\n",
    "            raise Exception(\"Index Out OF Range\")\n",
    "        \n",
    "        elif index==0:\n",
    "            self.remove_at_beggining()\n",
    "            \n",
    "        elif index==self.get_lenght()-1:\n",
    "            self.remove_at_ending()\n",
    "            \n",
    "        else:\n",
    "            node = self.head\n",
    "            counter = 0\n",
    "            while counter<index-1:\n",
    "                node = node.ref\n",
    "                counter+=1\n",
    "            node.ref = node.ref.ref\n",
    "            node.ref.pre = node"
   ]
  },
  {
   "cell_type": "code",
   "execution_count": 162,
   "id": "c95ddcd6",
   "metadata": {},
   "outputs": [],
   "source": [
    "ll = Doubly_Linked_List()"
   ]
  },
  {
   "cell_type": "code",
   "execution_count": 163,
   "id": "03c14811",
   "metadata": {},
   "outputs": [],
   "source": [
    "ll.add_at_beggining(10)\n",
    "ll.add_at_beggining(20)\n",
    "ll.add_at_beggining(30)"
   ]
  },
  {
   "cell_type": "code",
   "execution_count": 164,
   "id": "2fc9db9e",
   "metadata": {},
   "outputs": [
    {
     "name": "stdout",
     "output_type": "stream",
     "text": [
      "30 --> 20 --> 10 --> "
     ]
    }
   ],
   "source": [
    "ll.print_list()"
   ]
  },
  {
   "cell_type": "code",
   "execution_count": 165,
   "id": "92624393",
   "metadata": {},
   "outputs": [
    {
     "name": "stdout",
     "output_type": "stream",
     "text": [
      "10 --> 20 --> 30 --> "
     ]
    }
   ],
   "source": [
    "ll.reverse_list()"
   ]
  },
  {
   "cell_type": "code",
   "execution_count": 166,
   "id": "dc799764",
   "metadata": {},
   "outputs": [],
   "source": [
    "ll.add_at_ending(40)"
   ]
  },
  {
   "cell_type": "code",
   "execution_count": 167,
   "id": "3de648ad",
   "metadata": {},
   "outputs": [
    {
     "name": "stdout",
     "output_type": "stream",
     "text": [
      "30 --> 20 --> 10 --> 40 --> "
     ]
    }
   ],
   "source": [
    "ll.print_list()"
   ]
  },
  {
   "cell_type": "code",
   "execution_count": 168,
   "id": "dc2b06c8",
   "metadata": {},
   "outputs": [],
   "source": [
    "ll.add_at_index(1,50)"
   ]
  },
  {
   "cell_type": "code",
   "execution_count": 169,
   "id": "775913dd",
   "metadata": {},
   "outputs": [
    {
     "name": "stdout",
     "output_type": "stream",
     "text": [
      "30 --> 50 --> 20 --> 10 --> 40 --> "
     ]
    }
   ],
   "source": [
    "ll.print_list()"
   ]
  },
  {
   "cell_type": "code",
   "execution_count": 170,
   "id": "91fd9bde",
   "metadata": {},
   "outputs": [],
   "source": [
    "ll.add_at_index(4,50)"
   ]
  },
  {
   "cell_type": "code",
   "execution_count": 171,
   "id": "da5966c5",
   "metadata": {},
   "outputs": [
    {
     "name": "stdout",
     "output_type": "stream",
     "text": [
      "30 --> 50 --> 20 --> 10 --> 40 --> 50 --> "
     ]
    }
   ],
   "source": [
    "ll.print_list()"
   ]
  },
  {
   "cell_type": "code",
   "execution_count": 172,
   "id": "d35b7c70",
   "metadata": {},
   "outputs": [],
   "source": [
    "ll.add_at_index(2,44)"
   ]
  },
  {
   "cell_type": "code",
   "execution_count": 173,
   "id": "13170081",
   "metadata": {},
   "outputs": [
    {
     "name": "stdout",
     "output_type": "stream",
     "text": [
      "30 --> 50 --> 44 --> 20 --> 10 --> 40 --> 50 --> "
     ]
    }
   ],
   "source": [
    "ll.print_list()"
   ]
  },
  {
   "cell_type": "code",
   "execution_count": 174,
   "id": "bda94c9a",
   "metadata": {},
   "outputs": [],
   "source": [
    "ll.remove_at_beginning()"
   ]
  },
  {
   "cell_type": "code",
   "execution_count": 175,
   "id": "457fb2af",
   "metadata": {},
   "outputs": [
    {
     "name": "stdout",
     "output_type": "stream",
     "text": [
      "50 --> 44 --> 20 --> 10 --> 40 --> 50 --> "
     ]
    }
   ],
   "source": [
    "ll.print_list()"
   ]
  },
  {
   "cell_type": "code",
   "execution_count": 176,
   "id": "7dcebb4d",
   "metadata": {},
   "outputs": [
    {
     "name": "stdout",
     "output_type": "stream",
     "text": [
      "50 --> 40 --> 10 --> 20 --> 44 --> 50 --> "
     ]
    }
   ],
   "source": [
    "ll.reverse_list()"
   ]
  },
  {
   "cell_type": "code",
   "execution_count": 177,
   "id": "a6e8b5cf",
   "metadata": {},
   "outputs": [],
   "source": [
    "ll.remove_at_ending()"
   ]
  },
  {
   "cell_type": "code",
   "execution_count": 178,
   "id": "9e7b8d46",
   "metadata": {},
   "outputs": [
    {
     "name": "stdout",
     "output_type": "stream",
     "text": [
      "50 --> 44 --> 20 --> 10 --> 40 --> "
     ]
    }
   ],
   "source": [
    "ll.print_list()"
   ]
  },
  {
   "cell_type": "code",
   "execution_count": 179,
   "id": "4534cc72",
   "metadata": {},
   "outputs": [
    {
     "name": "stdout",
     "output_type": "stream",
     "text": [
      "40 --> 10 --> 20 --> 44 --> 50 --> "
     ]
    }
   ],
   "source": [
    "ll.reverse_list()"
   ]
  },
  {
   "cell_type": "code",
   "execution_count": 180,
   "id": "90524a82",
   "metadata": {},
   "outputs": [],
   "source": [
    "ll.remove_at_index(2)"
   ]
  },
  {
   "cell_type": "code",
   "execution_count": 181,
   "id": "9381f2db",
   "metadata": {},
   "outputs": [
    {
     "name": "stdout",
     "output_type": "stream",
     "text": [
      "50 --> 44 --> 10 --> 40 --> "
     ]
    }
   ],
   "source": [
    "ll.print_list()"
   ]
  },
  {
   "cell_type": "code",
   "execution_count": 182,
   "id": "5908d6a4",
   "metadata": {},
   "outputs": [
    {
     "name": "stdout",
     "output_type": "stream",
     "text": [
      "40 --> 10 --> 44 --> 50 --> "
     ]
    }
   ],
   "source": [
    "ll.reverse_list()"
   ]
  },
  {
   "cell_type": "code",
   "execution_count": null,
   "id": "6c51b34e",
   "metadata": {},
   "outputs": [],
   "source": []
  }
 ],
 "metadata": {
  "kernelspec": {
   "display_name": "Python 3",
   "language": "python",
   "name": "python3"
  },
  "language_info": {
   "codemirror_mode": {
    "name": "ipython",
    "version": 3
   },
   "file_extension": ".py",
   "mimetype": "text/x-python",
   "name": "python",
   "nbconvert_exporter": "python",
   "pygments_lexer": "ipython3",
   "version": "3.8.8"
  }
 },
 "nbformat": 4,
 "nbformat_minor": 5
}
