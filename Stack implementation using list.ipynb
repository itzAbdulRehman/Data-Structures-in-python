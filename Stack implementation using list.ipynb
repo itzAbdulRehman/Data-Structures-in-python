{
 "cells": [
  {
   "cell_type": "markdown",
   "id": "40925b87",
   "metadata": {},
   "source": [
    "# Stacks"
   ]
  },
  {
   "cell_type": "code",
   "execution_count": 198,
   "id": "9e66abe2",
   "metadata": {},
   "outputs": [],
   "source": [
    "# Stack using lists\n",
    "\n",
    "class stack_:\n",
    "    \n",
    "    def __init__(self):\n",
    "        self.data = []\n",
    "        \n",
    "    def push(self,item):\n",
    "        return self.data.append(item)\n",
    "    \n",
    "    def look(self):\n",
    "        return self.data\n",
    "    \n",
    "    def pop(self):\n",
    "        if len(self.data)==0:\n",
    "            print('Stack is Empty')\n",
    "        else:\n",
    "            return self.data.pop()\n",
    "    \n",
    "    def peak(self):\n",
    "        if len(self.data)==0:\n",
    "            print('Stack is Empty')\n",
    "        else:\n",
    "            return self.look()[-1]\n",
    "            #return self.data[-1]\n",
    "        \n",
    "    def lenght(self):\n",
    "        if len(self.data)==0:\n",
    "            print('Stack is Empty')\n",
    "        else:\n",
    "            print('Lenght of stack is {}'.format(len(self.look())))\n",
    "            #return len(self.look())\n",
    "            #return len(self.data)"
   ]
  },
  {
   "cell_type": "code",
   "execution_count": 199,
   "id": "9120c409",
   "metadata": {},
   "outputs": [],
   "source": [
    "stack = stack_()"
   ]
  },
  {
   "cell_type": "code",
   "execution_count": 200,
   "id": "8f2d96c2",
   "metadata": {},
   "outputs": [
    {
     "data": {
      "text/plain": [
       "[]"
      ]
     },
     "execution_count": 200,
     "metadata": {},
     "output_type": "execute_result"
    }
   ],
   "source": [
    "stack.look()"
   ]
  },
  {
   "cell_type": "code",
   "execution_count": 201,
   "id": "d32742fb",
   "metadata": {},
   "outputs": [
    {
     "name": "stdout",
     "output_type": "stream",
     "text": [
      "Stack is Empty\n"
     ]
    }
   ],
   "source": [
    "stack.lenght()"
   ]
  },
  {
   "cell_type": "code",
   "execution_count": 202,
   "id": "7e88a9ef",
   "metadata": {},
   "outputs": [
    {
     "name": "stdout",
     "output_type": "stream",
     "text": [
      "Stack is Empty\n"
     ]
    }
   ],
   "source": [
    "stack.peak()"
   ]
  },
  {
   "cell_type": "code",
   "execution_count": 203,
   "id": "5390ae46",
   "metadata": {},
   "outputs": [
    {
     "name": "stdout",
     "output_type": "stream",
     "text": [
      "Stack is Empty\n"
     ]
    }
   ],
   "source": [
    "stack.pop()"
   ]
  },
  {
   "cell_type": "code",
   "execution_count": 204,
   "id": "12955788",
   "metadata": {},
   "outputs": [],
   "source": [
    "stack.push(10)\n",
    "stack.push(20)\n",
    "stack.push(30)"
   ]
  },
  {
   "cell_type": "code",
   "execution_count": 205,
   "id": "2b970efd",
   "metadata": {},
   "outputs": [
    {
     "data": {
      "text/plain": [
       "[10, 20, 30]"
      ]
     },
     "execution_count": 205,
     "metadata": {},
     "output_type": "execute_result"
    }
   ],
   "source": [
    "stack.look()"
   ]
  },
  {
   "cell_type": "code",
   "execution_count": 206,
   "id": "10a34233",
   "metadata": {},
   "outputs": [
    {
     "data": {
      "text/plain": [
       "30"
      ]
     },
     "execution_count": 206,
     "metadata": {},
     "output_type": "execute_result"
    }
   ],
   "source": [
    "stack.pop()"
   ]
  },
  {
   "cell_type": "code",
   "execution_count": 207,
   "id": "7e2b24e7",
   "metadata": {},
   "outputs": [
    {
     "data": {
      "text/plain": [
       "[10, 20]"
      ]
     },
     "execution_count": 207,
     "metadata": {},
     "output_type": "execute_result"
    }
   ],
   "source": [
    "stack.look()"
   ]
  },
  {
   "cell_type": "code",
   "execution_count": 208,
   "id": "9ed9fb63",
   "metadata": {},
   "outputs": [
    {
     "name": "stdout",
     "output_type": "stream",
     "text": [
      "Lenght of stack is 2\n"
     ]
    }
   ],
   "source": [
    "stack.lenght()"
   ]
  },
  {
   "cell_type": "code",
   "execution_count": 209,
   "id": "fa23a254",
   "metadata": {},
   "outputs": [
    {
     "data": {
      "text/plain": [
       "20"
      ]
     },
     "execution_count": 209,
     "metadata": {},
     "output_type": "execute_result"
    }
   ],
   "source": [
    "stack.pop()"
   ]
  },
  {
   "cell_type": "code",
   "execution_count": 210,
   "id": "41e34706",
   "metadata": {},
   "outputs": [
    {
     "data": {
      "text/plain": [
       "[10]"
      ]
     },
     "execution_count": 210,
     "metadata": {},
     "output_type": "execute_result"
    }
   ],
   "source": [
    "stack.look()"
   ]
  },
  {
   "cell_type": "code",
   "execution_count": 211,
   "id": "68c50f2c",
   "metadata": {},
   "outputs": [
    {
     "name": "stdout",
     "output_type": "stream",
     "text": [
      "Lenght of stack is 1\n"
     ]
    }
   ],
   "source": [
    "stack.lenght()"
   ]
  },
  {
   "cell_type": "code",
   "execution_count": 212,
   "id": "e44024ce",
   "metadata": {},
   "outputs": [
    {
     "data": {
      "text/plain": [
       "10"
      ]
     },
     "execution_count": 212,
     "metadata": {},
     "output_type": "execute_result"
    }
   ],
   "source": [
    "stack.pop()"
   ]
  },
  {
   "cell_type": "code",
   "execution_count": 213,
   "id": "c85ea6a2",
   "metadata": {},
   "outputs": [
    {
     "data": {
      "text/plain": [
       "[]"
      ]
     },
     "execution_count": 213,
     "metadata": {},
     "output_type": "execute_result"
    }
   ],
   "source": [
    "stack.look()"
   ]
  },
  {
   "cell_type": "code",
   "execution_count": 214,
   "id": "359bd1d3",
   "metadata": {},
   "outputs": [
    {
     "name": "stdout",
     "output_type": "stream",
     "text": [
      "Stack is Empty\n"
     ]
    }
   ],
   "source": [
    "stack.lenght()"
   ]
  },
  {
   "cell_type": "code",
   "execution_count": null,
   "id": "63fff374",
   "metadata": {},
   "outputs": [],
   "source": []
  }
 ],
 "metadata": {
  "kernelspec": {
   "display_name": "Python 3",
   "language": "python",
   "name": "python3"
  },
  "language_info": {
   "codemirror_mode": {
    "name": "ipython",
    "version": 3
   },
   "file_extension": ".py",
   "mimetype": "text/x-python",
   "name": "python",
   "nbconvert_exporter": "python",
   "pygments_lexer": "ipython3",
   "version": "3.8.8"
  }
 },
 "nbformat": 4,
 "nbformat_minor": 5
}
