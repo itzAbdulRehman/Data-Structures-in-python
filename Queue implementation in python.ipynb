{
 "cells": [
  {
   "cell_type": "code",
   "execution_count": 7,
   "id": "41457f8f",
   "metadata": {},
   "outputs": [],
   "source": [
    "class Queue:\n",
    "    \n",
    "    def __init__(self):\n",
    "        self.data = []\n",
    "        \n",
    "    def enque(self,item):\n",
    "        return self.data.append(item)\n",
    "    \n",
    "    def look(self):\n",
    "        return self.data\n",
    "    \n",
    "    def deque(self):\n",
    "        if len(self.data)==0:\n",
    "            print('Stack is Empty')\n",
    "        else:\n",
    "            return self.data.pop(0)\n",
    "        \n",
    "    def lenght(self):\n",
    "        if len(self.data)==0:\n",
    "            print('Stack is Empty')\n",
    "        else:\n",
    "            print('Lenght of stack is {}'.format(len(self.look())))\n",
    "            #return len(self.look())\n",
    "            #return len(self.data)"
   ]
  },
  {
   "cell_type": "code",
   "execution_count": 8,
   "id": "bee47fb8",
   "metadata": {},
   "outputs": [],
   "source": [
    "q = Queue()"
   ]
  },
  {
   "cell_type": "code",
   "execution_count": 9,
   "id": "1f1035b1",
   "metadata": {},
   "outputs": [],
   "source": [
    "q.enque(10)\n",
    "q.enque(20)\n",
    "q.enque(30)"
   ]
  },
  {
   "cell_type": "code",
   "execution_count": 10,
   "id": "6c7c7f3f",
   "metadata": {},
   "outputs": [
    {
     "data": {
      "text/plain": [
       "[10, 20, 30]"
      ]
     },
     "execution_count": 10,
     "metadata": {},
     "output_type": "execute_result"
    }
   ],
   "source": [
    "q.look()"
   ]
  },
  {
   "cell_type": "code",
   "execution_count": 11,
   "id": "8f0f5132",
   "metadata": {},
   "outputs": [
    {
     "data": {
      "text/plain": [
       "10"
      ]
     },
     "execution_count": 11,
     "metadata": {},
     "output_type": "execute_result"
    }
   ],
   "source": [
    "q.deque()"
   ]
  },
  {
   "cell_type": "code",
   "execution_count": 12,
   "id": "c1f9ae74",
   "metadata": {},
   "outputs": [
    {
     "data": {
      "text/plain": [
       "20"
      ]
     },
     "execution_count": 12,
     "metadata": {},
     "output_type": "execute_result"
    }
   ],
   "source": [
    "q.deque()"
   ]
  },
  {
   "cell_type": "code",
   "execution_count": 13,
   "id": "6f72e562",
   "metadata": {},
   "outputs": [
    {
     "name": "stdout",
     "output_type": "stream",
     "text": [
      "Lenght of stack is 1\n"
     ]
    }
   ],
   "source": [
    "q.lenght()"
   ]
  },
  {
   "cell_type": "code",
   "execution_count": null,
   "id": "6eebbcb8",
   "metadata": {},
   "outputs": [],
   "source": []
  }
 ],
 "metadata": {
  "kernelspec": {
   "display_name": "Python 3",
   "language": "python",
   "name": "python3"
  },
  "language_info": {
   "codemirror_mode": {
    "name": "ipython",
    "version": 3
   },
   "file_extension": ".py",
   "mimetype": "text/x-python",
   "name": "python",
   "nbconvert_exporter": "python",
   "pygments_lexer": "ipython3",
   "version": "3.8.8"
  }
 },
 "nbformat": 4,
 "nbformat_minor": 5
}
