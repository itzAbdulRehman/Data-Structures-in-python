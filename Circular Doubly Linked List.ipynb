{
 "cells": [
  {
   "cell_type": "markdown",
   "id": "1566d126",
   "metadata": {},
   "source": [
    "# Circular Doubly Linked List"
   ]
  },
  {
   "cell_type": "code",
   "execution_count": 330,
   "id": "543483d5",
   "metadata": {},
   "outputs": [],
   "source": [
    "class Node:\n",
    "    \n",
    "    def __init__(self,data):\n",
    "        self.data = data\n",
    "        self.ref = None\n",
    "        self.pre = None\n",
    "        \n",
    "class DCLL:\n",
    "    \n",
    "    def __init__(self):\n",
    "        self.head = None\n",
    "        \n",
    "    def get_lenght(self):\n",
    "        if self.head is None:\n",
    "            print(\"empty\")\n",
    "            \n",
    "        else:\n",
    "            counter = 0\n",
    "            node = self.head\n",
    "            while node.ref!=self.head:\n",
    "                node = node.ref\n",
    "                counter+=1\n",
    "            return counter+1\n",
    "        \n",
    "    def print_list(self):\n",
    "        if self.head is None:\n",
    "            print(\"empty\")\n",
    "            \n",
    "        else:\n",
    "            node = self.head\n",
    "            while node.ref!=self.head:\n",
    "                print(node.data,\"-->\",end=\" \")\n",
    "                node = node.ref\n",
    "            print(node.data)\n",
    "            \n",
    "    def add_add_beg(self,data):\n",
    "        new_node = Node(data)\n",
    "        if self.head is None:\n",
    "            self.head = new_node\n",
    "            new_node.ref = self.head\n",
    "            new_node.pre = self.head\n",
    "            \n",
    "        else:\n",
    "           # Opproch 1\n",
    "        \n",
    "#             node = self.head\n",
    "#             while node.ref!=self.head:\n",
    "#                 node = node.ref\n",
    "#             node.ref = new_node\n",
    "#             new_node.ref = self.head\n",
    "#             self.head.pre = new_node\n",
    "#             new_node.pre = node\n",
    "#             self.head = new_node\n",
    "            \n",
    "\n",
    "            # Opproch 2\n",
    "    \n",
    "            p = self.head.pre\n",
    "            new_node.ref = self.head\n",
    "            self.head.pre = new_node\n",
    "            p.ref = new_node\n",
    "            new_node.pre = p\n",
    "            self.head = new_node\n",
    "                \n",
    "            \n",
    "    def add_at_index(self,index,data):\n",
    "        \n",
    "        if index<0 or index>self.get_lenght()-1:\n",
    "            raise Exception(\"Index Out OF Range\")\n",
    "        \n",
    "        elif index==0:\n",
    "            self.add_at_beggining(data)\n",
    "            \n",
    "        elif index==self.get_lenght()-1:\n",
    "            self.add_at_ending(data)\n",
    "            \n",
    "        else:\n",
    "            new_node = Node(data)\n",
    "            node = self.head\n",
    "            counter = 0\n",
    "            while counter<index-1:\n",
    "                node = node.ref\n",
    "                counter+=1\n",
    "            new_node.ref = node.ref\n",
    "            new_node.pre = node\n",
    "            node.ref.pre = new_node\n",
    "            node.ref = new_node\n",
    "            \n",
    "            \n",
    "    def add_add_end(self,data):\n",
    "        new_node = Node(data)\n",
    "        if self.head is None:\n",
    "            self.head = new_node\n",
    "            new_node.ref = self.head\n",
    "            new_node.pre = self.head\n",
    "            \n",
    "        else:\n",
    "#             # Opproch 1\n",
    "        \n",
    "#             node = self.head\n",
    "#             while node.ref!=self.head:\n",
    "#                 node = node.ref\n",
    "#             node.ref = new_node\n",
    "#             new_node.ref = self.head\n",
    "#             self.head.pre = new_node\n",
    "#             new_node.pre = node\n",
    "            \n",
    "\n",
    "            # Opproch 2\n",
    "    \n",
    "            p = self.head.pre\n",
    "            new_node.ref = self.head\n",
    "            self.head.pre = new_node\n",
    "            p.ref = new_node\n",
    "            new_node.pre = p\n",
    "    \n",
    "            \n",
    "    def reverse_list(self):\n",
    "        if self.head is None:\n",
    "            print(\"Linked List is Empty\")\n",
    "        else:\n",
    "            node = self.head\n",
    "            while node.ref!=self.head:\n",
    "                node = node.ref\n",
    "            index_node = node\n",
    "            while index_node.pre!=node:\n",
    "                print(index_node.data,\"-->\",end=\" \")\n",
    "                index_node = index_node.pre\n",
    "            print(index_node.data)\n",
    "                \n",
    "    def remove_from_beg(self):\n",
    "        if self.head is None:\n",
    "            print(\"empty\")\n",
    "            \n",
    "        elif self.head.ref is self.head:\n",
    "            self.head = None\n",
    "            \n",
    "        else:\n",
    "            p = self.head.pre\n",
    "            self.head = self.head.ref\n",
    "            self.head.pre = p\n",
    "            p.ref = self.head\n",
    "            \n",
    "    def remove_from_end(self):\n",
    "        if self.head is None:\n",
    "            print(\"empty\")\n",
    "            \n",
    "        elif self.head.ref is self.head:\n",
    "            self.head = None\n",
    "            \n",
    "        else:\n",
    "            p = self.head.pre.pre\n",
    "            p.ref = self.head\n",
    "            self.head.pre = p\n",
    "            \n",
    "    def remove_at_index(self,index):\n",
    "        \n",
    "        if index<0 or index>self.get_lenght()-1:\n",
    "            raise Exception(\"Index Out OF Range\")\n",
    "        \n",
    "        elif index==0:\n",
    "            self.remove_at_beggining()\n",
    "            \n",
    "        elif index==self.get_lenght()-1:\n",
    "            self.remove_at_ending()\n",
    "            \n",
    "        else:\n",
    "            node = self.head\n",
    "            counter = 0\n",
    "            while counter<index-1:\n",
    "                node = node.ref\n",
    "                counter+=1\n",
    "            node.ref = node.ref.ref\n",
    "            node.ref.pre = node\n",
    "            \n",
    "            \n",
    "    def print_from_index(self,index):\n",
    "        if index<0 or index>self.get_lenght()-1:\n",
    "            raise Exception(\"Index Out Of Range\")\n",
    "        else:\n",
    "            counter = 0\n",
    "            node = self.head\n",
    "            while counter!=index:\n",
    "                node = node.ref\n",
    "                counter+=1\n",
    "            index_node = node\n",
    "            while index_node.ref!=node:\n",
    "                print(index_node.data,\"-->\",end=\" \")\n",
    "                index_node = index_node.ref\n",
    "            print(index_node.data)\n",
    "            "
   ]
  },
  {
   "cell_type": "code",
   "execution_count": 331,
   "id": "36472cfd",
   "metadata": {},
   "outputs": [],
   "source": [
    "ll = DCLL()"
   ]
  },
  {
   "cell_type": "code",
   "execution_count": 332,
   "id": "3082200c",
   "metadata": {},
   "outputs": [],
   "source": [
    "ll.add_add_beg(10)\n",
    "ll.add_add_beg(20)\n",
    "ll.add_add_beg(30)"
   ]
  },
  {
   "cell_type": "code",
   "execution_count": 333,
   "id": "ca98329c",
   "metadata": {},
   "outputs": [
    {
     "name": "stdout",
     "output_type": "stream",
     "text": [
      "30 --> 20 --> 10\n"
     ]
    }
   ],
   "source": [
    "ll.print_list()"
   ]
  },
  {
   "cell_type": "code",
   "execution_count": 334,
   "id": "1b8e419b",
   "metadata": {},
   "outputs": [
    {
     "name": "stdout",
     "output_type": "stream",
     "text": [
      "30 --> 20 --> 10\n"
     ]
    }
   ],
   "source": [
    "ll.print_list()"
   ]
  },
  {
   "cell_type": "code",
   "execution_count": 335,
   "id": "141bc886",
   "metadata": {},
   "outputs": [
    {
     "name": "stdout",
     "output_type": "stream",
     "text": [
      "10 --> 20 --> 30\n"
     ]
    }
   ],
   "source": [
    "ll.reverse_list()"
   ]
  },
  {
   "cell_type": "code",
   "execution_count": 336,
   "id": "d3b6cc65",
   "metadata": {},
   "outputs": [],
   "source": [
    "ll.add_add_end(50)"
   ]
  },
  {
   "cell_type": "code",
   "execution_count": 337,
   "id": "1e8d7727",
   "metadata": {},
   "outputs": [
    {
     "name": "stdout",
     "output_type": "stream",
     "text": [
      "30 --> 20 --> 10 --> 50\n"
     ]
    }
   ],
   "source": [
    "ll.print_list()"
   ]
  },
  {
   "cell_type": "code",
   "execution_count": 338,
   "id": "58821bd1",
   "metadata": {},
   "outputs": [
    {
     "name": "stdout",
     "output_type": "stream",
     "text": [
      "50 --> 10 --> 20 --> 30\n"
     ]
    }
   ],
   "source": [
    "ll.reverse_list()"
   ]
  },
  {
   "cell_type": "code",
   "execution_count": 339,
   "id": "5e749f1e",
   "metadata": {},
   "outputs": [],
   "source": [
    "ll.remove_from_beg()"
   ]
  },
  {
   "cell_type": "code",
   "execution_count": 340,
   "id": "bc693e0d",
   "metadata": {},
   "outputs": [
    {
     "name": "stdout",
     "output_type": "stream",
     "text": [
      "20 --> 10 --> 50\n"
     ]
    }
   ],
   "source": [
    "ll.print_list()"
   ]
  },
  {
   "cell_type": "code",
   "execution_count": 341,
   "id": "87dd657e",
   "metadata": {},
   "outputs": [
    {
     "name": "stdout",
     "output_type": "stream",
     "text": [
      "50 --> 10 --> 20\n"
     ]
    }
   ],
   "source": [
    "ll.reverse_list()"
   ]
  },
  {
   "cell_type": "code",
   "execution_count": 342,
   "id": "486c3445",
   "metadata": {},
   "outputs": [],
   "source": [
    "ll.remove_from_end()"
   ]
  },
  {
   "cell_type": "code",
   "execution_count": 343,
   "id": "2a3b5491",
   "metadata": {},
   "outputs": [
    {
     "name": "stdout",
     "output_type": "stream",
     "text": [
      "20 --> 10\n"
     ]
    }
   ],
   "source": [
    "ll.print_list()"
   ]
  },
  {
   "cell_type": "code",
   "execution_count": 344,
   "id": "0990e356",
   "metadata": {},
   "outputs": [
    {
     "name": "stdout",
     "output_type": "stream",
     "text": [
      "10 --> 20\n"
     ]
    }
   ],
   "source": [
    "ll.reverse_list()"
   ]
  },
  {
   "cell_type": "code",
   "execution_count": 345,
   "id": "f3a04c1f",
   "metadata": {},
   "outputs": [],
   "source": [
    "ll.add_add_beg(10)\n",
    "ll.add_add_beg(20)\n",
    "ll.add_add_beg(30)"
   ]
  },
  {
   "cell_type": "code",
   "execution_count": 346,
   "id": "af8ff6c0",
   "metadata": {},
   "outputs": [
    {
     "name": "stdout",
     "output_type": "stream",
     "text": [
      "30 --> 20 --> 10 --> 20 --> 10\n"
     ]
    }
   ],
   "source": [
    "ll.print_list()"
   ]
  },
  {
   "cell_type": "code",
   "execution_count": 347,
   "id": "80ffe335",
   "metadata": {},
   "outputs": [
    {
     "name": "stdout",
     "output_type": "stream",
     "text": [
      "10 --> 20 --> 10 --> 30 --> 20\n"
     ]
    }
   ],
   "source": [
    "ll.print_from_index(2)"
   ]
  },
  {
   "cell_type": "code",
   "execution_count": 348,
   "id": "c3d2b370",
   "metadata": {},
   "outputs": [],
   "source": [
    "ll.add_at_index(2,45)"
   ]
  },
  {
   "cell_type": "code",
   "execution_count": 349,
   "id": "145dca3c",
   "metadata": {},
   "outputs": [
    {
     "name": "stdout",
     "output_type": "stream",
     "text": [
      "30 --> 20 --> 45 --> 10 --> 20 --> 10\n"
     ]
    }
   ],
   "source": [
    "ll.print_list()"
   ]
  },
  {
   "cell_type": "code",
   "execution_count": 350,
   "id": "dc3e3247",
   "metadata": {},
   "outputs": [],
   "source": [
    "ll.remove_at_index(2)"
   ]
  },
  {
   "cell_type": "code",
   "execution_count": 351,
   "id": "c8fd4ddd",
   "metadata": {},
   "outputs": [
    {
     "name": "stdout",
     "output_type": "stream",
     "text": [
      "30 --> 20 --> 10 --> 20 --> 10\n"
     ]
    }
   ],
   "source": [
    "ll.print_list()"
   ]
  },
  {
   "cell_type": "code",
   "execution_count": null,
   "id": "0f286e66",
   "metadata": {},
   "outputs": [],
   "source": []
  },
  {
   "cell_type": "code",
   "execution_count": null,
   "id": "406cfd03",
   "metadata": {},
   "outputs": [],
   "source": []
  }
 ],
 "metadata": {
  "kernelspec": {
   "display_name": "Python 3",
   "language": "python",
   "name": "python3"
  },
  "language_info": {
   "codemirror_mode": {
    "name": "ipython",
    "version": 3
   },
   "file_extension": ".py",
   "mimetype": "text/x-python",
   "name": "python",
   "nbconvert_exporter": "python",
   "pygments_lexer": "ipython3",
   "version": "3.8.8"
  }
 },
 "nbformat": 4,
 "nbformat_minor": 5
}
