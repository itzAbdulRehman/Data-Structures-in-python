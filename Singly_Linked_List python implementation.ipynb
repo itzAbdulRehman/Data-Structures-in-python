{
 "cells": [
  {
   "cell_type": "markdown",
   "id": "396aa70e",
   "metadata": {},
   "source": [
    "# Linked_List"
   ]
  },
  {
   "cell_type": "code",
   "execution_count": 353,
   "id": "4d0d0866",
   "metadata": {},
   "outputs": [],
   "source": [
    "class Node:\n",
    "    \n",
    "    def __init__(self,data):\n",
    "        self.data = data\n",
    "        self.ref = None\n",
    "        \n",
    "class linked_list:\n",
    "    \n",
    "    def __init__(self):\n",
    "        self.head = None\n",
    "        \n",
    "    def print_list(self):\n",
    "        node = self.head\n",
    "        if node is None:\n",
    "            print(\"Linked list is Empty\")\n",
    "        else:\n",
    "            while node is not None:\n",
    "                print(node.data,'--->',end=' ')\n",
    "                node = node.ref\n",
    "       \n",
    "                \n",
    "    def get_lenght(self):\n",
    "        node = self.head\n",
    "        if node is None:\n",
    "            print(\"Linked list is Empty\")\n",
    "        else:\n",
    "            counter=0\n",
    "            while node is not None:\n",
    "                node = node.ref\n",
    "                counter += 1\n",
    "            return counter\n",
    "        \n",
    "    def add_at_beggining(self,data):\n",
    "        node = self.head\n",
    "        new_node = Node(data)\n",
    "        if self.head is None:\n",
    "            self.head = new_node\n",
    "        else:\n",
    "            new_node.ref = self.head\n",
    "            self.head = new_node\n",
    "            \n",
    "    def add_at_end(self,data):\n",
    "        new_node = Node(data)\n",
    "        if self.head is None:\n",
    "            self.head = new_node\n",
    "        else:\n",
    "            node = self.head\n",
    "            while node.ref is not None:\n",
    "                node = node.ref\n",
    "            node.ref = new_node\n",
    "            \n",
    "    def add_at_index(self,index,data):\n",
    "        new_node = Node(data)\n",
    "        if index<0 or index>self.get_lenght():\n",
    "            raise Exception(\"Index Out Of Range\")\n",
    "            \n",
    "        elif index==0:\n",
    "            self.add_at_beggining()\n",
    "            \n",
    "        elif index==self.get_lenght()-1:\n",
    "            self.add_at_end\n",
    "            \n",
    "        else:\n",
    "            node = self.head\n",
    "            counter = 0\n",
    "            while counter<index-1:\n",
    "                node = node.ref\n",
    "            new_node.ref = node.ref\n",
    "            node.ref = new_node\n",
    "            \n",
    "    def remove_from_begining(self):\n",
    "        if self.head is None:\n",
    "            self.head = new_node\n",
    "        else:\n",
    "            self.head = self.head.ref\n",
    "            \n",
    "    def remove_from_ending(self):\n",
    "        if self.head is None:\n",
    "            self.head = new_node\n",
    "        else:\n",
    "            node = self.head\n",
    "            while node.ref.ref is not None:\n",
    "                node = node.ref\n",
    "            node.ref = None\n",
    "            \n",
    "    def remove_from_index(self,index):\n",
    "        if index<0 or index>self.get_lenght():\n",
    "            raise Exception(\"Index Out Of Range\")\n",
    "            \n",
    "        elif index==0:\n",
    "            self.remove_from_begining()\n",
    "            \n",
    "        elif index==self.get_lenght()-1:\n",
    "            self.remove_from_ending()\n",
    "            \n",
    "        else:\n",
    "            node = self.head\n",
    "            counter = 0\n",
    "            while counter<index-1:\n",
    "                node = node.ref\n",
    "                counter+=1\n",
    "            node.ref = node.ref.ref\n",
    "            \n",
    "        "
   ]
  },
  {
   "cell_type": "code",
   "execution_count": 354,
   "id": "36a558ea",
   "metadata": {},
   "outputs": [],
   "source": [
    "ll = linked_list()"
   ]
  },
  {
   "cell_type": "code",
   "execution_count": 355,
   "id": "d469c9ad",
   "metadata": {},
   "outputs": [],
   "source": [
    "ll.add_at_beggining(10)"
   ]
  },
  {
   "cell_type": "code",
   "execution_count": 356,
   "id": "fe93a0f2",
   "metadata": {},
   "outputs": [
    {
     "name": "stdout",
     "output_type": "stream",
     "text": [
      "10 ---> "
     ]
    }
   ],
   "source": [
    "ll.print_list()"
   ]
  },
  {
   "cell_type": "code",
   "execution_count": 357,
   "id": "7fda7218",
   "metadata": {},
   "outputs": [],
   "source": [
    "ll.add_at_beggining(20)"
   ]
  },
  {
   "cell_type": "code",
   "execution_count": 358,
   "id": "21c1a745",
   "metadata": {},
   "outputs": [
    {
     "name": "stdout",
     "output_type": "stream",
     "text": [
      "20 ---> 10 ---> "
     ]
    }
   ],
   "source": [
    "ll.print_list()"
   ]
  },
  {
   "cell_type": "code",
   "execution_count": 359,
   "id": "b36bed6a",
   "metadata": {},
   "outputs": [
    {
     "data": {
      "text/plain": [
       "2"
      ]
     },
     "execution_count": 359,
     "metadata": {},
     "output_type": "execute_result"
    }
   ],
   "source": [
    "ll.get_lenght()"
   ]
  },
  {
   "cell_type": "code",
   "execution_count": 360,
   "id": "4deb009b",
   "metadata": {},
   "outputs": [],
   "source": [
    "ll.add_at_end(30)"
   ]
  },
  {
   "cell_type": "code",
   "execution_count": 361,
   "id": "f5827047",
   "metadata": {},
   "outputs": [
    {
     "name": "stdout",
     "output_type": "stream",
     "text": [
      "20 ---> 10 ---> 30 ---> "
     ]
    }
   ],
   "source": [
    "ll.print_list()"
   ]
  },
  {
   "cell_type": "code",
   "execution_count": 362,
   "id": "6089b725",
   "metadata": {},
   "outputs": [],
   "source": [
    "ll.add_at_index(1,89)"
   ]
  },
  {
   "cell_type": "code",
   "execution_count": 363,
   "id": "50e2cf17",
   "metadata": {},
   "outputs": [
    {
     "name": "stdout",
     "output_type": "stream",
     "text": [
      "20 ---> 89 ---> 10 ---> 30 ---> "
     ]
    }
   ],
   "source": [
    "ll.print_list()"
   ]
  },
  {
   "cell_type": "code",
   "execution_count": 364,
   "id": "73b63694",
   "metadata": {},
   "outputs": [],
   "source": [
    "ll.remove_from_begining()"
   ]
  },
  {
   "cell_type": "code",
   "execution_count": 365,
   "id": "6da84570",
   "metadata": {},
   "outputs": [
    {
     "name": "stdout",
     "output_type": "stream",
     "text": [
      "89 ---> 10 ---> 30 ---> "
     ]
    }
   ],
   "source": [
    "ll.print_list()"
   ]
  },
  {
   "cell_type": "code",
   "execution_count": 366,
   "id": "4cf2e08b",
   "metadata": {},
   "outputs": [],
   "source": [
    "ll.remove_from_ending()"
   ]
  },
  {
   "cell_type": "code",
   "execution_count": 367,
   "id": "0b9a4c66",
   "metadata": {},
   "outputs": [
    {
     "name": "stdout",
     "output_type": "stream",
     "text": [
      "89 ---> 10 ---> "
     ]
    }
   ],
   "source": [
    "ll.print_list()"
   ]
  },
  {
   "cell_type": "code",
   "execution_count": 368,
   "id": "b9218404",
   "metadata": {},
   "outputs": [],
   "source": [
    "ll.remove_from_ending()"
   ]
  },
  {
   "cell_type": "code",
   "execution_count": 369,
   "id": "607b7ebe",
   "metadata": {},
   "outputs": [
    {
     "name": "stdout",
     "output_type": "stream",
     "text": [
      "89 ---> "
     ]
    }
   ],
   "source": [
    "ll.print_list()"
   ]
  },
  {
   "cell_type": "code",
   "execution_count": 376,
   "id": "99a410fb",
   "metadata": {},
   "outputs": [],
   "source": [
    "ll.add_at_end(30)\n",
    "ll.add_at_end(40)\n",
    "ll.add_at_end(50)"
   ]
  },
  {
   "cell_type": "code",
   "execution_count": 377,
   "id": "65c6b20d",
   "metadata": {},
   "outputs": [
    {
     "name": "stdout",
     "output_type": "stream",
     "text": [
      "89 ---> 50 ---> 30 ---> 40 ---> 50 ---> "
     ]
    }
   ],
   "source": [
    "ll.print_list()"
   ]
  },
  {
   "cell_type": "code",
   "execution_count": 378,
   "id": "dff558ce",
   "metadata": {},
   "outputs": [],
   "source": [
    "ll.remove_from_index(1)"
   ]
  },
  {
   "cell_type": "code",
   "execution_count": 379,
   "id": "afb79e77",
   "metadata": {},
   "outputs": [
    {
     "name": "stdout",
     "output_type": "stream",
     "text": [
      "89 ---> 30 ---> 40 ---> 50 ---> "
     ]
    }
   ],
   "source": [
    "ll.print_list()"
   ]
  },
  {
   "cell_type": "code",
   "execution_count": 374,
   "id": "bd00e86b",
   "metadata": {},
   "outputs": [],
   "source": [
    "ll.remove_from_index(1)"
   ]
  },
  {
   "cell_type": "code",
   "execution_count": 375,
   "id": "464179fb",
   "metadata": {},
   "outputs": [
    {
     "name": "stdout",
     "output_type": "stream",
     "text": [
      "89 ---> 50 ---> "
     ]
    }
   ],
   "source": [
    "ll.print_list()"
   ]
  },
  {
   "cell_type": "code",
   "execution_count": null,
   "id": "9487a340",
   "metadata": {},
   "outputs": [],
   "source": []
  }
 ],
 "metadata": {
  "kernelspec": {
   "display_name": "Python 3",
   "language": "python",
   "name": "python3"
  },
  "language_info": {
   "codemirror_mode": {
    "name": "ipython",
    "version": 3
   },
   "file_extension": ".py",
   "mimetype": "text/x-python",
   "name": "python",
   "nbconvert_exporter": "python",
   "pygments_lexer": "ipython3",
   "version": "3.8.8"
  }
 },
 "nbformat": 4,
 "nbformat_minor": 5
}
